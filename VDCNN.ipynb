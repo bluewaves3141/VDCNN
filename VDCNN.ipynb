{
 "cells": [
  {
   "cell_type": "code",
   "execution_count": null,
   "metadata": {},
   "outputs": [],
   "source": [
    "from utils import VDCNN\n",
    "from utils import make_dataloader, run_model"
   ]
  },
  {
   "cell_type": "code",
   "execution_count": null,
   "metadata": {},
   "outputs": [],
   "source": [
    "train_fname = '../../data/yelp_review_polarity_csv/train.csv'\n",
    "test_fname = '../../data/yelp_review_polarity_csv/test.csv'\n",
    "num_epochs = 15\n",
    "depth = 9\n",
    "num_class = 2\n",
    "\n",
    "dataloaders = make_dataloader(train_fname, test_fname)\n",
    "\n",
    "model = VDCNN(depth=depth, num_class=num_class)\n",
    "\n",
    "run_model(model, dataloaders, num_epochs)"
   ]
  },
  {
   "cell_type": "code",
   "execution_count": null,
   "metadata": {},
   "outputs": [],
   "source": []
  },
  {
   "cell_type": "code",
   "execution_count": null,
   "metadata": {},
   "outputs": [],
   "source": []
  }
 ],
 "metadata": {
  "kernelspec": {
   "display_name": "Python 3",
   "language": "python",
   "name": "python3"
  },
  "language_info": {
   "codemirror_mode": {
    "name": "ipython",
    "version": 3
   },
   "file_extension": ".py",
   "mimetype": "text/x-python",
   "name": "python",
   "nbconvert_exporter": "python",
   "pygments_lexer": "ipython3",
   "version": "3.6.9"
  }
 },
 "nbformat": 4,
 "nbformat_minor": 2
}
