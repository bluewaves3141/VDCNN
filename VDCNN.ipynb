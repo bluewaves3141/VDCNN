{
 "cells": [
  {
   "cell_type": "code",
   "execution_count": 2,
   "metadata": {},
   "outputs": [],
   "source": [
    "import numpy as np\n",
    "import torch\n",
    "import torch.nn as nn\n",
    "import torch.nn.functional as F\n",
    "import torch.optim as optim\n",
    "import pandas as pd"
   ]
  },
  {
   "cell_type": "code",
   "execution_count": null,
   "metadata": {},
   "outputs": [],
   "source": [
    "class KMaxPooling(nn.Module):\n",
    "    \"\"\"\n",
    "    K-Max Pooling used as the last layer for VDCNN model implementation\n",
    "    \"\"\"\n",
    "    def __init__(self, k=8):\n",
    "        super(KMaxPooling, self).__init__()\n",
    "        self.k = 8\n",
    "    def forward(self, x):\n",
    "        idxes = x.topk(self.k, dim=2)[1].sort(dim=0)[0]\n",
    "        return x.gather(2, idxes)\n",
    "\n",
    "\n",
    "class VDCNN(nn.Module):\n",
    "    \"\"\"\n",
    "    Implmentation of VDCNN model by Conneau et al. 2017\n",
    "    \"\"\"\n",
    "    def __init__(self, depth=9, num_class=10):\n",
    "        super(VDCNN, self).__init__()\n",
    "        self.depth = depth\n",
    "        self.num_class = num_class\n",
    "        \n",
    "        if depth == 9:\n",
    "            num_blocks = [2, 2, 2, 2]\n",
    "        elif depth == 17:\n",
    "            num_blocks = [4, 4, 4, 4]\n",
    "        elif depth == 29:\n",
    "            num_blocks = [4, 4, 10, 10]\n",
    "        else:\n",
    "            print('Choose depth among 9, 17, or 29.')\n",
    "            sys.exit()\n",
    "\n",
    "        self.conv64_block = nn.ModuleList()\n",
    "        self.conv64_block += [nn.Conv1d(16, 64, 3, padding=2)]\n",
    "        for i in range(num_blocks[0]):\n",
    "            self.conv64_block += [nn.Conv1d(64, 64, 3, padding=2), \n",
    "                                  nn.BatchNorm1d(64, affine=False),\n",
    "                                  nn.ReLU()]\n",
    "\n",
    "        self.pool_half = nn.MaxPool1d(3, stride=2) \n",
    "        \n",
    "        self.conv128_block = nn.ModuleList()\n",
    "        for i in range(num_blocks[1]):\n",
    "            if i == 0:\n",
    "                self.conv128_block += [nn.Conv1d(64, 128, 3, padding=2)]\n",
    "            else:\n",
    "                self.conv128_block += [nn.Conv1d(128, 128, 3, padding=2)]\n",
    "            self.conv128_block += [nn.BatchNorm1d(128, affine=False),\n",
    "                                   nn.ReLU()]   \n",
    "        \n",
    "        self.conv256_block = nn.ModuleList()\n",
    "        for i in range(num_blocks[2]):\n",
    "            if i == 0:\n",
    "                self.conv256_block += [nn.Conv1d(128, 256, 3, padding=2)]\n",
    "            else:\n",
    "                self.conv256_block += [nn.Conv1d(256, 256, 3, padding=2)]\n",
    "            self.conv256_block += [nn.BatchNorm1d(256, affine=False),\n",
    "                                   nn.ReLU()]\n",
    "        \n",
    "        self.conv512_block = nn.ModuleList()\n",
    "        for i in range(num_blocks[3]):\n",
    "            if i == 0:\n",
    "                self.conv256_block += [nn.Conv1d(256, 512, 3, padding=2)]\n",
    "            else:\n",
    "                self.conv256_block += [nn.Conv1d(512, 512, 3, padding=2)]\n",
    "            self.conv256_block += [nn.BatchNorm1d(512, affine=False),\n",
    "                                   nn.ReLU()]\n",
    "        \n",
    "        self.output_block = nn.ModuleList()\n",
    "        \n",
    "        self.output_block += [KMaxPooling(k=8),\n",
    "                              nn.Linear(4096, 2048),\n",
    "                              nn.ReLU(),\n",
    "                              nn.Linear(2048, 2048),\n",
    "                              nn.ReLU(),\n",
    "                              nn.Linear(2048, self.num_class),\n",
    "                              nn.Softmax(dim=1)]\n",
    "        \n",
    "    def forward(self, x):\n",
    "        for unit in self.conv64_block:\n",
    "            x = unit(x)\n",
    "        x = self.pool_half(x)\n",
    "        for unit in self.conv128_block:\n",
    "            x = unit(x)\n",
    "        x = self.pool_half(x)\n",
    "        for unit in self.conv256_block:\n",
    "            x = unit(x)\n",
    "        x = self.pool_half(x)\n",
    "        for unit in self.conv512_block:\n",
    "            x = unit(x)\n",
    "        for unit in self.output_block:\n",
    "            x = unit(x)\n",
    "        return x\n",
    "    \n",
    "    \n",
    "\n",
    "        "
   ]
  },
  {
   "cell_type": "code",
   "execution_count": 8,
   "metadata": {},
   "outputs": [],
   "source": [
    "train_df = pd.read_csv('../../data/yelp_review_polarity_csv/train.csv', header=None)\n",
    "test_df = pd.read_csv('../../data/yelp_review_polarity_csv/test.csv', header=None)"
   ]
  },
  {
   "cell_type": "code",
   "execution_count": 39,
   "metadata": {},
   "outputs": [],
   "source": [
    "lookup_table = {}\n",
    "chrs = \"abcdefghijklmnopqrstuvwxyz0123456789-,;.!?:'\"+'\"/\\|_@#$%^&*~`+-=<>()[]{} '\n",
    "for i, c in enumerate(chrs):\n",
    "    lookup_table[c] = i+1 # reserve 0 as padding\n",
    "\n",
    "train_X = np.zeros([len(train_df), 1024]).astype(int)\n",
    "for i, s in enumerate(train_df.loc[:, 1]):\n",
    "    for j, c in enumerate(s.lower()):\n",
    "        train_X[i, j] = lookup_table[c]\n",
    "        if j == 1023:\n",
    "            break\n",
    "\n",
    "train_Y = train_df.loc[:, 0].to_numpy().reshape(-1, 1)\n"
   ]
  },
  {
   "cell_type": "code",
   "execution_count": 42,
   "metadata": {},
   "outputs": [],
   "source": []
  },
  {
   "cell_type": "code",
   "execution_count": null,
   "metadata": {},
   "outputs": [],
   "source": []
  },
  {
   "cell_type": "code",
   "execution_count": 44,
   "metadata": {},
   "outputs": [
    {
     "data": {
      "text/plain": [
       "array([[21, 14,  6, ...,  0,  0,  0],\n",
       "       [ 2,  5,  5, ...,  0,  0,  0],\n",
       "       [ 9, 70,  4, ...,  5, 12, 20],\n",
       "       ...,\n",
       "       [16,  8, 15, ...,  0,  0,  0],\n",
       "       [12, 15, 15, ...,  0,  0,  0],\n",
       "       [18, 25,  1, ...,  0,  0,  0]])"
      ]
     },
     "execution_count": 44,
     "metadata": {},
     "output_type": "execute_result"
    }
   ],
   "source": []
  },
  {
   "cell_type": "code",
   "execution_count": null,
   "metadata": {},
   "outputs": [],
   "source": []
  }
 ],
 "metadata": {
  "kernelspec": {
   "display_name": "Python 3",
   "language": "python",
   "name": "python3"
  },
  "language_info": {
   "codemirror_mode": {
    "name": "ipython",
    "version": 3
   },
   "file_extension": ".py",
   "mimetype": "text/x-python",
   "name": "python",
   "nbconvert_exporter": "python",
   "pygments_lexer": "ipython3",
   "version": "3.6.9"
  }
 },
 "nbformat": 4,
 "nbformat_minor": 2
}
